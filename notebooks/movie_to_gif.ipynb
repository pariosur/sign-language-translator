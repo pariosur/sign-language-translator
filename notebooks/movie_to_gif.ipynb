{
 "cells": [
  {
   "cell_type": "code",
   "execution_count": null,
   "metadata": {},
   "outputs": [],
   "source": [
    "from moviepy.editor import *\n",
    "import os\n",
    "import pandas as pd\n",
    "from unittest import skip"
   ]
  },
  {
   "cell_type": "code",
   "execution_count": null,
   "metadata": {},
   "outputs": [],
   "source": [
    "# VIDEOS ID\n",
    "df = pd.read_csv(\"id_list.csv\", header=0, usecols=[\"word\", \"video_id\"], dtype=str)\n",
    "df.head()"
   ]
  },
  {
   "cell_type": "markdown",
   "metadata": {},
   "source": [
    "## From MP4 to GIF"
   ]
  },
  {
   "cell_type": "code",
   "execution_count": null,
   "metadata": {},
   "outputs": [],
   "source": [
    "# FUNCTION TO CONVERT MP4 TO GIF\n",
    "def convert_to_gif(video):\n",
    "    videofile = VideoFileClip(f\"../raw_data/{video}.mp4\")\n",
    "    videofile.write_gif(f\"../raw_data_gif/{video}.gif\")"
   ]
  },
  {
   "cell_type": "code",
   "execution_count": null,
   "metadata": {},
   "outputs": [],
   "source": [
    "# TO CONVERT ALL MP4 FILES IN SELECTED FOLDER(OS.LISTDIR) TO GIF\n",
    "videos = [file.replace(\".mp4\", \"\") for file in os.listdir(\"../raw_data/\") if file.endswith(\".mp4\")]\n",
    "for video in videos:\n",
    "    try:\n",
    "        convert_to_gif(video)\n",
    "    except:\n",
    "        skip"
   ]
  },
  {
   "cell_type": "code",
   "execution_count": null,
   "metadata": {},
   "outputs": [],
   "source": [
    "# IF YOU ONLY WANT TO CONVERT VIDEOS FROM A SPECIFIC ACTION, USE THIS INSTEAD. \n",
    "# CHANGE THE WORD AFTER  == TO THE ACTION YOU WANT\n",
    "\n",
    "df_temp = df[df[\"word\"]==\"allergy\"]\n",
    "for video in df_temp.video_id:\n",
    "    convert_to_gif(video)"
   ]
  },
  {
   "cell_type": "markdown",
   "metadata": {},
   "source": [
    "## From GIF to MP4"
   ]
  },
  {
   "cell_type": "code",
   "execution_count": null,
   "metadata": {},
   "outputs": [],
   "source": [
    "# FUNCTION TO CONVERT GIF TO MP4\n",
    "def convert_to_mp4(video):\n",
    "\n",
    "    videofile = VideoFileClip(f\"../raw_aug/{video}.gif\")\n",
    "    videofile.write_videofile(f\"../raw_aug/{video}.mp4\")"
   ]
  },
  {
   "cell_type": "code",
   "execution_count": null,
   "metadata": {},
   "outputs": [],
   "source": [
    "# CONVERT ALL FILES IN SPECIFIED FOLDER (FOLDER IN OS.LISTDIR) IF THEY ARE A GIF\n",
    "gifs = [file.replace(\".gif\", \"\") for file in os.listdir(\"../raw_aug/\") if file.endswith(\".gif\")]\n",
    "\n",
    "for gif in gifs:\n",
    "    try:\n",
    "        convert_to_mp4(gif)\n",
    "    except:\n",
    "        skip"
   ]
  },
  {
   "cell_type": "code",
   "execution_count": null,
   "metadata": {},
   "outputs": [],
   "source": [
    "# AFTER CONVERT TO MP4 AGAIN, DELETE THE GIFS FROM FOLDER\n",
    "for file in os.listdir(\"../raw_aug/\"):\n",
    "    if file.endswith(\".gif\"):\n",
    "        os.remove(f\"../raw_aug/{file}\")"
   ]
  },
  {
   "cell_type": "code",
   "execution_count": null,
   "metadata": {},
   "outputs": [],
   "source": []
  }
 ],
 "metadata": {
  "kernelspec": {
   "display_name": "Python 3 (ipykernel)",
   "language": "python",
   "name": "python3"
  },
  "language_info": {
   "codemirror_mode": {
    "name": "ipython",
    "version": 3
   },
   "file_extension": ".py",
   "mimetype": "text/x-python",
   "name": "python",
   "nbconvert_exporter": "python",
   "pygments_lexer": "ipython3",
   "version": "3.8.12"
  },
  "toc": {
   "base_numbering": 1,
   "nav_menu": {},
   "number_sections": true,
   "sideBar": true,
   "skip_h1_title": false,
   "title_cell": "Table of Contents",
   "title_sidebar": "Contents",
   "toc_cell": false,
   "toc_position": {},
   "toc_section_display": true,
   "toc_window_display": false
  },
  "vscode": {
   "interpreter": {
    "hash": "07824060615066e23856ef6edaeae9184213262a725276364e6a155625b2086e"
   }
  }
 },
 "nbformat": 4,
 "nbformat_minor": 2
}
